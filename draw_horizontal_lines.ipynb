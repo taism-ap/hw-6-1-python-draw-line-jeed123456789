{
 "cells": [
  {
   "cell_type": "code",
   "execution_count": 1,
   "metadata": {},
   "outputs": [],
   "source": [
    "#import Pillow (fork of PIL - python image library) to do image stuff\n",
    "from PIL import Image\n",
    "import random as rand"
   ]
  },
  {
   "cell_type": "code",
   "execution_count": 2,
   "metadata": {},
   "outputs": [],
   "source": [
    "#create a new image 100 x 100 pixels in size. The \"1\" is the mode for the image, in this case black or white\n",
    "def create_canvas():\n",
    "    img = Image.new(\"1\",[100,100])\n",
    "    return img"
   ]
  },
  {
   "cell_type": "code",
   "execution_count": 3,
   "metadata": {},
   "outputs": [],
   "source": [
    "#take paramters for drawing the line\n",
    "def take_points():\n",
    "    points = [] # create list that will hold coordinates of starting point and ending point\n",
    "    temp = [] # temporary list that will hold the x and y coordinate of a point\n",
    "    \n",
    "    # randomly choose x & y coordinates of starting and end points\n",
    "    x_start = rand.randint(0,99) \n",
    "    y_start = rand.randint(0,99)\n",
    "    temp.append(x_start)\n",
    "    temp.append(y_start)\n",
    "    points.append(temp)\n",
    "    temp = []\n",
    "    \n",
    "    x_end = rand.randint(0,99)\n",
    "    y_end = y_start\n",
    "    temp.append(x_end)\n",
    "    temp.append(y_end)\n",
    "    points.append(temp)\n",
    "    \n",
    "    return points"
   ]
  },
  {
   "cell_type": "code",
   "execution_count": 4,
   "metadata": {},
   "outputs": [],
   "source": [
    "# draw the line given the starting and end point\n",
    "def draw_line(points):\n",
    "    start_x = points[0][0]\n",
    "    end_x = points[1][0]\n",
    "    y_coord = points[0][1]\n",
    "    \n",
    "    if start_x < end_x:\n",
    "        for x_coord in range(start_x, end_x+1):\n",
    "            pixels[x_coord, y_coord] = (1)\n",
    "    else:\n",
    "        for x_coord in range(end_x, start_x+1):\n",
    "            pixels[x_coord, y_coord] = (1)\n",
    "            \n",
    "    return"
   ]
  },
  {
   "cell_type": "code",
   "execution_count": 5,
   "metadata": {},
   "outputs": [],
   "source": [
    "#create black canvas for drawing line\n",
    "img = create_canvas()"
   ]
  },
  {
   "cell_type": "code",
   "execution_count": 6,
   "metadata": {},
   "outputs": [],
   "source": [
    "#load the image into memory to make changes to it\n",
    "pixels = img.load()"
   ]
  },
  {
   "cell_type": "code",
   "execution_count": 7,
   "metadata": {},
   "outputs": [
    {
     "name": "stdout",
     "output_type": "stream",
     "text": [
      "The number of horizontal lines is 6\n"
     ]
    }
   ],
   "source": [
    "#randomly choose the number of horizontal lines\n",
    "num_lines = rand.randint(0,10)\n",
    "print(\"The number of horizontal lines is\",num_lines)"
   ]
  },
  {
   "cell_type": "code",
   "execution_count": 8,
   "metadata": {},
   "outputs": [],
   "source": [
    "# for-loop for making num_lines worth of horizontal lines\n",
    "for count in range(num_lines):\n",
    "    points = take_points()\n",
    "    draw_line(points)"
   ]
  },
  {
   "cell_type": "code",
   "execution_count": 9,
   "metadata": {},
   "outputs": [],
   "source": [
    "#saven the image as a .png file and then close the image\n",
    "img.save('horizontal_lines.png')"
   ]
  },
  {
   "cell_type": "code",
   "execution_count": 10,
   "metadata": {},
   "outputs": [
    {
     "data": {
      "image/png": "[encoded data removed]",
      "text/plain": [
       "<PIL.Image.Image image mode=1 size=100x100 at 0x176133700F0>"
      ]
     },
     "execution_count": 10,
     "metadata": {},
     "output_type": "execute_result"
    }
   ],
   "source": [
    "img"
   ]
  },
  {
   "cell_type": "code",
   "execution_count": null,
   "metadata": {},
   "outputs": [],
   "source": []
  }
 ],
 "metadata": {
  "kernelspec": {
   "display_name": "Python 3",
   "language": "python",
   "name": "python3"
  },
  "language_info": {
   "codemirror_mode": {
    "name": "ipython",
    "version": 3
   },
   "file_extension": ".py",
   "mimetype": "text/x-python",
   "name": "python",
   "nbconvert_exporter": "python",
   "pygments_lexer": "ipython3",
   "version": "3.7.3"
  }
 },
 "nbformat": 4,
 "nbformat_minor": 2
}
