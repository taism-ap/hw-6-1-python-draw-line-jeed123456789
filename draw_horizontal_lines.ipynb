{
 "cells": [
  {
   "cell_type": "code",
   "execution_count": 1,
   "metadata": {},
   "outputs": [],
   "source": [
    "#import Pillow (fork of PIL - python image library) to do image stuff\n",
    "from PIL import Image\n",
    "import random as rand"
   ]
  },
  {
   "cell_type": "code",
   "execution_count": 2,
   "metadata": {},
   "outputs": [],
   "source": [
    "#create a new image 100 x 100 pixels in size. The \"1\" is the mode for the image, in this case black or white\n",
    "def create_canvas():\n",
    "    img = Image.new(\"1\",[100,100])\n",
    "    return img"
   ]
  },
  {
   "cell_type": "code",
   "execution_count": 3,
   "metadata": {},
   "outputs": [],
   "source": [
    "#take paramters for drawing the line\n",
    "def take_start_point():\n",
    "    x_start = input('What is the x-coordinate of one point?(if it is less than three digits, make it three digits. ex) 002)')\n",
    "    y_start = input('What is the y-coordinate of one point?(if it is less than three digits, make it three digits. ex) 002)')\n",
    "    return x_start+','+y_start\n",
    "def take_end_point():\n",
    "    x_end = input('What is the x-coordinate of the other point?(if it is less than three digits, make it three digits. ex) 002)')\n",
    "    y_end = input('What is the y-coordinate of the other point?(if it is less than three digits, make it three digits. ex) 002)')\n",
    "    return x_end+','+y_end"
   ]
  },
  {
   "cell_type": "code",
   "execution_count": 4,
   "metadata": {},
   "outputs": [],
   "source": [
    "# draw the line given the starting and end point\n",
    "def draw_line(start, finish):\n",
    "    start_x = (int)(start[0:3])\n",
    "    end_x = (int)(finish[0:3])\n",
    "    y_coord = (int)(start[4:6])\n",
    "    for x_coord in range(start_x, end_x+1):\n",
    "        pixels[x_coord,y_coord] = (1)\n",
    "    return"
   ]
  },
  {
   "cell_type": "code",
   "execution_count": 5,
   "metadata": {},
   "outputs": [],
   "source": [
    "img = create_canvas()"
   ]
  },
  {
   "cell_type": "code",
   "execution_count": 6,
   "metadata": {},
   "outputs": [],
   "source": [
    "#load the image into memory to make changes to it\n",
    "pixels = img.load()"
   ]
  },
  {
   "cell_type": "code",
   "execution_count": 7,
   "metadata": {},
   "outputs": [
    {
     "name": "stdout",
     "output_type": "stream",
     "text": [
      "2\n"
     ]
    }
   ],
   "source": [
    "num_lines = rand.randint(0,10)\n",
    "print(num_lines)"
   ]
  },
  {
   "cell_type": "code",
   "execution_count": 8,
   "metadata": {},
   "outputs": [
    {
     "name": "stdout",
     "output_type": "stream",
     "text": [
      "What is the x-coordinate of one point?(if it is less than three digits, make it three digits. ex) 002)012\n",
      "What is the y-coordinate of one point?(if it is less than three digits, make it three digits. ex) 002)090\n",
      "What is the x-coordinate of the other point?(if it is less than three digits, make it three digits. ex) 002)054\n",
      "What is the y-coordinate of the other point?(if it is less than three digits, make it three digits. ex) 002)090\n",
      "What is the x-coordinate of one point?(if it is less than three digits, make it three digits. ex) 002)012\n",
      "What is the y-coordinate of one point?(if it is less than three digits, make it three digits. ex) 002)010\n",
      "What is the x-coordinate of the other point?(if it is less than three digits, make it three digits. ex) 002)045\n",
      "What is the y-coordinate of the other point?(if it is less than three digits, make it three digits. ex) 002)010\n"
     ]
    }
   ],
   "source": [
    "for count in range(num_lines):\n",
    "    start = take_start_point()\n",
    "    finish = take_end_point()\n",
    "    draw_line(start, finish)"
   ]
  },
  {
   "cell_type": "code",
   "execution_count": 9,
   "metadata": {},
   "outputs": [],
   "source": [
    "#saven the image as a .png file and then close the image\n",
    "img.save('horizontal_lines.png')"
   ]
  },
  {
   "cell_type": "code",
   "execution_count": 10,
   "metadata": {},
   "outputs": [
    {
     "data": {
      "image/png": "[encoded data removed]",
      "text/plain": [
       "<PIL.Image.Image image mode=1 size=100x100 at 0x1FEBBE2C2E8>"
      ]
     },
     "execution_count": 10,
     "metadata": {},
     "output_type": "execute_result"
    }
   ],
   "source": [
    "img"
   ]
  },
  {
   "cell_type": "code",
   "execution_count": null,
   "metadata": {},
   "outputs": [],
   "source": []
  },
  {
   "cell_type": "code",
   "execution_count": null,
   "metadata": {},
   "outputs": [],
   "source": []
  }
 ],
 "metadata": {
  "kernelspec": {
   "display_name": "Python 3",
   "language": "python",
   "name": "python3"
  },
  "language_info": {
   "codemirror_mode": {
    "name": "ipython",
    "version": 3
   },
   "file_extension": ".py",
   "mimetype": "text/x-python",
   "name": "python",
   "nbconvert_exporter": "python",
   "pygments_lexer": "ipython3",
   "version": "3.7.3"
  }
 },
 "nbformat": 4,
 "nbformat_minor": 2
}
