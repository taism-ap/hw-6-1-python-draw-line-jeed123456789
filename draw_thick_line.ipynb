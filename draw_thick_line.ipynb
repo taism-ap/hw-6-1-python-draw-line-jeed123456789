{
 "cells": [
  {
   "cell_type": "code",
   "execution_count": 1,
   "metadata": {},
   "outputs": [],
   "source": [
    "#import Pillow (fork of PIL - python image library) to do image stuff\n",
    "from PIL import Image"
   ]
  },
  {
   "cell_type": "code",
   "execution_count": 2,
   "metadata": {},
   "outputs": [],
   "source": [
    "#create a new image 100 x 100 pixels in size. The \"1\" is the mode for the image, in this case black or white\n",
    "def create_canvas():\n",
    "    img = Image.new(\"1\",[100,100])\n",
    "    return img"
   ]
  },
  {
   "cell_type": "code",
   "execution_count": 3,
   "metadata": {},
   "outputs": [],
   "source": [
    "def arrange(r,q,index_max):\n",
    "    partition = []\n",
    "    if r == 0 or index_max == r:\n",
    "        for i in range(index_max):\n",
    "            partition.append(q)\n",
    "    else:\n",
    "        if index_max < 2*r:\n",
    "            for i in range(r):\n",
    "                partition.append(q+1)\n",
    "            n = r//(index_max-r)\n",
    "            i = n\n",
    "            while i < len(partition):\n",
    "                partition.insert(i, q)\n",
    "                i += (n+1)\n",
    "        elif index_max == 2*r:\n",
    "            for i in range(r):\n",
    "                partition.append(q+1)\n",
    "                partition.append(q)\n",
    "        else:\n",
    "            for i in range(index_max-r-1):\n",
    "                partition.append(q) \n",
    "            n = (index_max-r-1)//r\n",
    "            i = n\n",
    "            while i < len(partition):\n",
    "                partition.insert(i, q+1)\n",
    "                i += (n+1)\n",
    "    return partition"
   ]
  },
  {
   "cell_type": "code",
   "execution_count": 4,
   "metadata": {},
   "outputs": [],
   "source": [
    "#take paramters for drawing the line\n",
    "def take_points():\n",
    "    points = []\n",
    "    temp = []\n",
    "    x_start = (int)(input('What is the x-coordinate of one point?\\n'))\n",
    "    y_start = (int)(input('What is the y-coordinate of one point?\\n'))\n",
    "    temp.append(x_start)\n",
    "    temp.append(y_start)\n",
    "    points.append(temp)\n",
    "    temp = []\n",
    "    x_end = (int)(input('What is the x-coordinate of one point?\\n'))\n",
    "    y_end = (int)(input('What is the y-coordinate of one point?\\n'))\n",
    "    temp.append(x_end)\n",
    "    temp.append(y_end)\n",
    "    points.append(temp)\n",
    "    return points"
   ]
  },
  {
   "cell_type": "code",
   "execution_count": 5,
   "metadata": {},
   "outputs": [],
   "source": [
    "# draw the line given the starting and end point\n",
    "def draw_line(points):\n",
    "    start_x = points[0][0]\n",
    "    end_x = points[1][0]\n",
    "    start_y = points[0][1]\n",
    "    end_y = points[1][1]\n",
    "    dif_x = abs(start_x-end_x)+1\n",
    "    dif_y = abs(start_y-end_y)+1\n",
    "    if dif_x > dif_y:\n",
    "        r = dif_x%dif_y\n",
    "        q = dif_x//dif_y\n",
    "        partition = arrange(r,q,dif_y-1)\n",
    "        if (start_x < end_x) and (start_y < end_y):\n",
    "            row = start_y\n",
    "            x_count = start_x\n",
    "            for length_line in partition:\n",
    "                for x_coord in range(x_count, x_count+length_line):\n",
    "                    pixels[x_coord,row] = (1)\n",
    "                row+=1\n",
    "                x_count+=length_line\n",
    "        elif (start_x > end_x) and (start_y > end_y):\n",
    "            row = end_y\n",
    "            x_count = end_x\n",
    "            for length_line in partition:\n",
    "                for x_coord in range(x_count, x_count+length_line):\n",
    "                    pixels[x_coord,row] = (1)\n",
    "                row+=1\n",
    "                x_count+=length_line\n",
    "        elif (start_x < end_x) and (start_y > end_y):\n",
    "            row = start_y\n",
    "            x_count = start_x\n",
    "            for length_line in partition:\n",
    "                for x_coord in range(x_count, x_count+length_line):\n",
    "                    pixels[x_coord,row] = (1)\n",
    "                row-=1\n",
    "                x_count+=length_line\n",
    "        elif (start_x > end_x) and (start_y < end_y):\n",
    "            row = end_y\n",
    "            x_count = end_x\n",
    "            for length_line in partition:\n",
    "                for x_coord in range(x_count, x_count+length_line):\n",
    "                    pixels[x_coord,row] = (1)\n",
    "                row-=1\n",
    "                x_count+=length_line\n",
    "        else:\n",
    "            if start_x == end_x:\n",
    "                if start_y < end_y:\n",
    "                    for y_coord in range(start_y, end_y+1):\n",
    "                        pixels[start_x, y_coord]\n",
    "                else:\n",
    "                    for y_coord in range(end_y, start_y+1):\n",
    "                        pixels[start_x, y_coord]\n",
    "            else:\n",
    "                if start_x < end_X:\n",
    "                    for x_coord in range(start_x, end_x+1):\n",
    "                        pixels[x_coord, start_y]\n",
    "                else:\n",
    "                    for x_coord in range(end_x, start_x+1):\n",
    "                        pixels[x_coord, start_y]\n",
    "    else:\n",
    "        r = dif_y%dif_x\n",
    "        q = dif_y//dif_x\n",
    "        partition = arrange(r,q,dif_x-1)\n",
    "        if (start_x < end_x) and (start_y < end_y):\n",
    "            col = start_x\n",
    "            y_count = start_y\n",
    "            for length_line in partition:\n",
    "                for y_coord in range(y_count, y_count+length_line):\n",
    "                    pixels[col,y_coord] = (1)\n",
    "                col+=1\n",
    "                y_count+=length_line\n",
    "        elif (start_x > end_x) and (start_y > end_y):\n",
    "            col = end_x\n",
    "            y_count = end_y\n",
    "            for length_line in partition:\n",
    "                for y_coord in range(y_count, y_count+length_line):\n",
    "                    pixels[col,y_coord] = (1)\n",
    "                col+=1\n",
    "                y_count+=length_line\n",
    "        elif (start_x < end_x) and (start_y > end_y):\n",
    "            col = start_x\n",
    "            y_count = start_y\n",
    "            for length_line in partition:\n",
    "                for y_coord in range(y_count, y_count+length_line):\n",
    "                    pixels[col,y_coord] = (1)\n",
    "                col+=1\n",
    "                y_count-=length_line\n",
    "                \n",
    "        elif (start_x > end_x) and (start_y < end_y):\n",
    "            col = end_x\n",
    "            y_count = end_y\n",
    "            for length_line in partition:\n",
    "                for y_coord in range(y_count, y_count+length_line):\n",
    "                    pixels[col,y_coord] = (1)\n",
    "                col+=1\n",
    "                y_count-=length_line\n",
    "        else:\n",
    "            if start_x == end_x:\n",
    "                if start_y < end_y:\n",
    "                    for y_coord in range(start_y, end_y+1):\n",
    "                        pixels[start_x, y_coord]\n",
    "                else:\n",
    "                    for y_coord in range(end_y, start_y+1):\n",
    "                        pixels[start_x, y_coord]\n",
    "            else:\n",
    "                if start_x < end_x:\n",
    "                    for x_coord in range(start_x, end_x+1):\n",
    "                        pixels[x_coord, start_y]\n",
    "                else:\n",
    "                    for x_coord in range(end_x, start_x+1):\n",
    "                        pixels[x_coord, start_y]              \n",
    "    return"
   ]
  },
  {
   "cell_type": "code",
   "execution_count": 6,
   "metadata": {},
   "outputs": [],
   "source": [
    "img = create_canvas()"
   ]
  },
  {
   "cell_type": "code",
   "execution_count": 7,
   "metadata": {},
   "outputs": [],
   "source": [
    "#load the image into memory to make changes to it\n",
    "pixels = img.load()"
   ]
  },
  {
   "cell_type": "code",
   "execution_count": 8,
   "metadata": {},
   "outputs": [
    {
     "name": "stdout",
     "output_type": "stream",
     "text": [
      "What is the x-coordinate of one point?\n",
      "13\n",
      "What is the y-coordinate of one point?\n",
      "24\n",
      "What is the x-coordinate of one point?\n",
      "56\n",
      "What is the y-coordinate of one point?\n",
      "75\n"
     ]
    }
   ],
   "source": [
    "points = take_points()\n",
    "start_x = points[0][0]\n",
    "start_y = points[0][1]\n",
    "end_x = points[1][0]\n",
    "end_y = points[1][1]\n",
    "if start_x < end_x:\n",
    "    small_x = start_x\n",
    "else:\n",
    "    small_x = end_x\n",
    "if start_y < end_y:\n",
    "    small_y = start_y\n",
    "else:\n",
    "    small_y = end_y"
   ]
  },
  {
   "cell_type": "code",
   "execution_count": 9,
   "metadata": {},
   "outputs": [
    {
     "name": "stdout",
     "output_type": "stream",
     "text": [
      "What would you like the thickness of the line to be?\n",
      "4\n"
     ]
    }
   ],
   "source": [
    "thickness = (int)(input(\"What would you like the thickness of the line to be?\\n\"))"
   ]
  },
  {
   "cell_type": "code",
   "execution_count": 10,
   "metadata": {},
   "outputs": [],
   "source": [
    "if small_x - thickness < 0:\n",
    "    for subline in range(1, thickness+1):\n",
    "        draw_line(points)\n",
    "        points[0][0]+=1\n",
    "        points[1][0]+=1\n",
    "elif small_x + thickness > 99:\n",
    "    for subline in range(1, thickness+1):\n",
    "        draw_line(points)\n",
    "        points[0][0]-=1\n",
    "        points[1][0]-=1\n",
    "else: \n",
    "    for subline in range(1, thickness+1):\n",
    "        draw_line(points)\n",
    "        points[0][0]-=1\n",
    "        points[1][0]-=1"
   ]
  },
  {
   "cell_type": "code",
   "execution_count": 11,
   "metadata": {},
   "outputs": [],
   "source": [
    "#saven the image as a .png file and then close the image\n",
    "img.save('thick_line.png')"
   ]
  },
  {
   "cell_type": "code",
   "execution_count": 12,
   "metadata": {},
   "outputs": [
    {
     "data": {
      "image/png": "[encoded data removed]",
      "text/plain": [
       "<PIL.Image.Image image mode=1 size=100x100 at 0x1A48BC6B400>"
      ]
     },
     "execution_count": 12,
     "metadata": {},
     "output_type": "execute_result"
    }
   ],
   "source": [
    "img"
   ]
  },
  {
   "cell_type": "code",
   "execution_count": null,
   "metadata": {},
   "outputs": [],
   "source": []
  }
 ],
 "metadata": {
  "kernelspec": {
   "display_name": "Python 3",
   "language": "python",
   "name": "python3"
  },
  "language_info": {
   "codemirror_mode": {
    "name": "ipython",
    "version": 3
   },
   "file_extension": ".py",
   "mimetype": "text/x-python",
   "name": "python",
   "nbconvert_exporter": "python",
   "pygments_lexer": "ipython3",
   "version": "3.7.3"
  }
 },
 "nbformat": 4,
 "nbformat_minor": 2
}
