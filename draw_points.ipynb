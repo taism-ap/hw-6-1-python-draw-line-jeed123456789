{
 "cells": [
  {
   "cell_type": "code",
   "execution_count": 3,
   "metadata": {},
   "outputs": [],
   "source": [
    "#import Pillow (fork of PIL - python image library) to do image stuff\n",
    "from PIL import Image\n",
    "\n",
    "#create a new image 100 x 100 pixels in size. The \"1\" is the mode for the image, in this case black or white\n",
    "img = Image.new(\"1\",[100,100])\n",
    "\n",
    "#load the image into memory to make changes to it\n",
    "pixels = img.load()\n",
    "\n",
    "#adds a white pixel at point (50,50) - note, (0,0) is in the upper left hand corner of the image (as it should be)\n",
    "pixels[70,70] = (1)\n",
    "\n",
    "#saven the image as a .png file and then close the image\n",
    "\n",
    "img.save('pixels.png')"
   ]
  },
  {
   "cell_type": "code",
   "execution_count": 4,
   "metadata": {},
   "outputs": [
    {
     "data": {
      "image/png": "[encoded data removed]",
      "text/plain": [
       "<PIL.Image.Image image mode=1 size=100x100 at 0x1C1115054E0>"
      ]
     },
     "execution_count": 4,
     "metadata": {},
     "output_type": "execute_result"
    }
   ],
   "source": [
    "img"
   ]
  },
  {
   "cell_type": "code",
   "execution_count": null,
   "metadata": {},
   "outputs": [],
   "source": []
  }
 ],
 "metadata": {
  "kernelspec": {
   "display_name": "Python 3",
   "language": "python",
   "name": "python3"
  },
  "language_info": {
   "codemirror_mode": {
    "name": "ipython",
    "version": 3
   },
   "file_extension": ".py",
   "mimetype": "text/x-python",
   "name": "python",
   "nbconvert_exporter": "python",
   "pygments_lexer": "ipython3",
   "version": "3.7.3"
  }
 },
 "nbformat": 4,
 "nbformat_minor": 2
}
